{
 "cells": [
  {
   "cell_type": "code",
   "execution_count": 17,
   "id": "suffering-decision",
   "metadata": {},
   "outputs": [],
   "source": [
    "import torch\n",
    "import pandas as pd\n",
    "import numpy as np\n",
    "import matplotlib.pyplot as plt\n",
    "import seaborn as sns\n",
    "import scipy.stats as stats\n",
    "import math"
   ]
  },
  {
   "cell_type": "code",
   "execution_count": 44,
   "id": "mysterious-scottish",
   "metadata": {},
   "outputs": [],
   "source": [
    "model_name = 'VGG16'\n",
    "dataset_name = 'CIFAR10'\n",
    "init_param_path = '../src/checkpoints/init_param_' + model_name + '_' + dataset_name + '.pth'\n",
    "final_param_path = '../src/checkpoints/final_param_' + model_name + '_' + dataset_name + '.pth'\n",
    "#init_param_path = '../src/checkpoints/LeNet5_init.pth'\n",
    "#final_param_path = '../src/checkpoints/LeNet5_final.pth'\n",
    "init_param_dict = torch.load(init_param_path, map_location=torch.device('cpu'))\n",
    "final_param_dict = torch.load(final_param_path, map_location=torch.device('cpu'))"
   ]
  },
  {
   "cell_type": "code",
   "execution_count": 45,
   "id": "herbal-causing",
   "metadata": {},
   "outputs": [
    {
     "name": "stdout",
     "output_type": "stream",
     "text": [
      "conv_layers.0.weight\n",
      "conv_layers.0.bias\n",
      "conv_layers.1.weight\n",
      "conv_layers.1.bias\n",
      "conv_layers.1.running_mean\n",
      "conv_layers.1.running_var\n",
      "conv_layers.1.num_batches_tracked\n",
      "conv_layers.3.weight\n",
      "conv_layers.3.bias\n",
      "conv_layers.4.weight\n",
      "conv_layers.4.bias\n",
      "conv_layers.4.running_mean\n",
      "conv_layers.4.running_var\n",
      "conv_layers.4.num_batches_tracked\n",
      "conv_layers.7.weight\n",
      "conv_layers.7.bias\n",
      "conv_layers.8.weight\n",
      "conv_layers.8.bias\n",
      "conv_layers.8.running_mean\n",
      "conv_layers.8.running_var\n",
      "conv_layers.8.num_batches_tracked\n",
      "conv_layers.10.weight\n",
      "conv_layers.10.bias\n",
      "conv_layers.11.weight\n",
      "conv_layers.11.bias\n",
      "conv_layers.11.running_mean\n",
      "conv_layers.11.running_var\n",
      "conv_layers.11.num_batches_tracked\n",
      "conv_layers.14.weight\n",
      "conv_layers.14.bias\n",
      "conv_layers.15.weight\n",
      "conv_layers.15.bias\n",
      "conv_layers.15.running_mean\n",
      "conv_layers.15.running_var\n",
      "conv_layers.15.num_batches_tracked\n",
      "conv_layers.17.weight\n",
      "conv_layers.17.bias\n",
      "conv_layers.18.weight\n",
      "conv_layers.18.bias\n",
      "conv_layers.18.running_mean\n",
      "conv_layers.18.running_var\n",
      "conv_layers.18.num_batches_tracked\n",
      "conv_layers.20.weight\n",
      "conv_layers.20.bias\n",
      "conv_layers.21.weight\n",
      "conv_layers.21.bias\n",
      "conv_layers.21.running_mean\n",
      "conv_layers.21.running_var\n",
      "conv_layers.21.num_batches_tracked\n",
      "conv_layers.24.weight\n",
      "conv_layers.24.bias\n",
      "conv_layers.25.weight\n",
      "conv_layers.25.bias\n",
      "conv_layers.25.running_mean\n",
      "conv_layers.25.running_var\n",
      "conv_layers.25.num_batches_tracked\n",
      "conv_layers.27.weight\n",
      "conv_layers.27.bias\n",
      "conv_layers.28.weight\n",
      "conv_layers.28.bias\n",
      "conv_layers.28.running_mean\n",
      "conv_layers.28.running_var\n",
      "conv_layers.28.num_batches_tracked\n",
      "conv_layers.30.weight\n",
      "conv_layers.30.bias\n",
      "conv_layers.31.weight\n",
      "conv_layers.31.bias\n",
      "conv_layers.31.running_mean\n",
      "conv_layers.31.running_var\n",
      "conv_layers.31.num_batches_tracked\n",
      "conv_layers.34.weight\n",
      "conv_layers.34.bias\n",
      "conv_layers.35.weight\n",
      "conv_layers.35.bias\n",
      "conv_layers.35.running_mean\n",
      "conv_layers.35.running_var\n",
      "conv_layers.35.num_batches_tracked\n",
      "conv_layers.37.weight\n",
      "conv_layers.37.bias\n",
      "conv_layers.38.weight\n",
      "conv_layers.38.bias\n",
      "conv_layers.38.running_mean\n",
      "conv_layers.38.running_var\n",
      "conv_layers.38.num_batches_tracked\n",
      "conv_layers.40.weight\n",
      "conv_layers.40.bias\n",
      "conv_layers.41.weight\n",
      "conv_layers.41.bias\n",
      "conv_layers.41.running_mean\n",
      "conv_layers.41.running_var\n",
      "conv_layers.41.num_batches_tracked\n",
      "fc_layers.0.weight\n",
      "fc_layers.0.bias\n",
      "fc_layers.3.weight\n",
      "fc_layers.3.bias\n",
      "fc_layers.6.weight\n",
      "fc_layers.6.bias\n"
     ]
    }
   ],
   "source": [
    "for (key,layer_weights_tensor) in init_param_dict.items():\n",
    "    print(key)"
   ]
  },
  {
   "cell_type": "code",
   "execution_count": 46,
   "id": "accepting-monster",
   "metadata": {},
   "outputs": [
    {
     "name": "stdout",
     "output_type": "stream",
     "text": [
      "conv_layers.0.weight\n",
      "conv_layers.1.weight\n",
      "conv_layers.3.weight\n",
      "conv_layers.4.weight\n",
      "conv_layers.7.weight\n",
      "conv_layers.8.weight\n",
      "conv_layers.10.weight\n",
      "conv_layers.11.weight\n",
      "conv_layers.14.weight\n",
      "conv_layers.15.weight\n",
      "conv_layers.17.weight\n",
      "conv_layers.18.weight\n",
      "conv_layers.20.weight\n",
      "conv_layers.21.weight\n",
      "conv_layers.24.weight\n",
      "conv_layers.25.weight\n",
      "conv_layers.27.weight\n",
      "conv_layers.28.weight\n",
      "conv_layers.30.weight\n",
      "conv_layers.31.weight\n",
      "conv_layers.34.weight\n",
      "conv_layers.35.weight\n",
      "conv_layers.37.weight\n",
      "conv_layers.38.weight\n",
      "conv_layers.40.weight\n",
      "conv_layers.41.weight\n",
      "fc_layers.0.weight\n",
      "fc_layers.3.weight\n",
      "fc_layers.6.weight\n",
      "conv_layers.0.weight\n",
      "conv_layers.1.weight\n",
      "conv_layers.3.weight\n",
      "conv_layers.4.weight\n",
      "conv_layers.7.weight\n",
      "conv_layers.8.weight\n",
      "conv_layers.10.weight\n",
      "conv_layers.11.weight\n",
      "conv_layers.14.weight\n",
      "conv_layers.15.weight\n",
      "conv_layers.17.weight\n",
      "conv_layers.18.weight\n",
      "conv_layers.20.weight\n",
      "conv_layers.21.weight\n",
      "conv_layers.24.weight\n",
      "conv_layers.25.weight\n",
      "conv_layers.27.weight\n",
      "conv_layers.28.weight\n",
      "conv_layers.30.weight\n",
      "conv_layers.31.weight\n",
      "conv_layers.34.weight\n",
      "conv_layers.35.weight\n",
      "conv_layers.37.weight\n",
      "conv_layers.38.weight\n",
      "conv_layers.40.weight\n",
      "conv_layers.41.weight\n",
      "fc_layers.0.weight\n",
      "fc_layers.3.weight\n",
      "fc_layers.6.weight\n"
     ]
    }
   ],
   "source": [
    "init_weights_array = np.zeros(0)\n",
    "for (key,layer_weights_tensor) in init_param_dict.items():\n",
    "    if 'weight' in key:\n",
    "        print(key)\n",
    "        init_weights_array = np.append(init_weights_array, layer_weights_tensor)\n",
    "\n",
    "final_weights_array = np.zeros(0)\n",
    "for (key,layer_weights_tensor) in final_param_dict.items():\n",
    "    if 'weight' in key:\n",
    "        print(key)\n",
    "        final_weights_array = np.append(final_weights_array, layer_weights_tensor)"
   ]
  },
  {
   "cell_type": "code",
   "execution_count": 47,
   "id": "second-experience",
   "metadata": {},
   "outputs": [
    {
     "data": {
      "text/plain": [
       "(33630016,)"
      ]
     },
     "execution_count": 47,
     "metadata": {},
     "output_type": "execute_result"
    }
   ],
   "source": [
    "init_weights_array.shape"
   ]
  },
  {
   "cell_type": "code",
   "execution_count": 48,
   "id": "mental-compound",
   "metadata": {},
   "outputs": [
    {
     "data": {
      "text/plain": [
       "(33630016,)"
      ]
     },
     "execution_count": 48,
     "metadata": {},
     "output_type": "execute_result"
    }
   ],
   "source": [
    "final_weights_array.shape"
   ]
  },
  {
   "cell_type": "code",
   "execution_count": 49,
   "id": "controlled-vacuum",
   "metadata": {},
   "outputs": [
    {
     "data": {
      "image/png": "[encoded data removed]",
      "text/plain": [
       "<Figure size 504x360 with 1 Axes>"
      ]
     },
     "metadata": {},
     "output_type": "display_data"
    }
   ],
   "source": [
    "fig, ax = plt.subplots(figsize=(7,5),nrows=1, ncols=1)\n",
    "fig.patch.set_facecolor('w')\n",
    "ax.grid(linestyle='dotted')\n",
    "ax.set_facecolor('whitesmoke')\n",
    "ax.set_ylabel('Density')\n",
    "bin_edges = np.histogram(init_weights_array,bins=500)[1]\n",
    "#plt.hist(init_weights_array,bins=50, edgecolor='steelblue',density=True, stacked=True)\n",
    "loc, std = stats.norm.fit(init_weights_array)\n",
    "plt.plot(bin_edges,stats.norm.pdf(bin_edges, loc=loc, scale=std))\n",
    "ax.legend(['pdf','normalized frequency'])\n",
    "ax.title.set_text('Initial Parameters\\' Distribution')\n",
    "plt.show()\n",
    "fig_name = 'init_weights_distribution_' + model_name + '_' + dataset_name + '.png'\n",
    "fig.savefig(fig_name)"
   ]
  },
  {
   "cell_type": "code",
   "execution_count": 50,
   "id": "vital-cornell",
   "metadata": {},
   "outputs": [
    {
     "data": {
      "image/png": "[encoded data removed]",
      "text/plain": [
       "<Figure size 504x360 with 1 Axes>"
      ]
     },
     "metadata": {},
     "output_type": "display_data"
    }
   ],
   "source": [
    "fig, ax = plt.subplots(figsize=(7,5),nrows=1, ncols=1)\n",
    "fig.patch.set_facecolor('w')\n",
    "ax.grid(linestyle='dotted')\n",
    "ax.set_facecolor('whitesmoke')\n",
    "ax.set_ylabel('Density')\n",
    "bin_edges = np.histogram(final_weights_array,bins=500)[1]\n",
    "#plt.hist(final_weights_array,bins=50, edgecolor='steelblue',density=True, stacked=True)\n",
    "loc, std = stats.norm.fit(final_weights_array)\n",
    "plt.plot(bin_edges,stats.norm.pdf(bin_edges, loc=loc, scale=std))\n",
    "ax.legend(['pdf','normalized frequency'])\n",
    "ax.title.set_text('Final Parameters\\' Distribution')\n",
    "plt.show()\n",
    "fig_name = 'final_weights_distribution_' + model_name + '_' + dataset_name + '.png'\n",
    "fig.savefig(fig_name)"
   ]
  },
  {
   "cell_type": "markdown",
   "id": "japanese-sperm",
   "metadata": {},
   "source": [
    "-----"
   ]
  },
  {
   "cell_type": "code",
   "execution_count": 31,
   "id": "biological-premium",
   "metadata": {},
   "outputs": [
    {
     "data": {
      "text/plain": [
       "(array([6.19215610e-03, 4.12810407e-03, 1.03202602e-02, 2.06405203e-03,\n",
       "        8.25620814e-03, 6.19215610e-03, 2.06405203e-03, 4.12810407e-03,\n",
       "        8.25620814e-03, 6.19215610e-03, 1.03202602e-02, 6.19215610e-02,\n",
       "        5.57294049e-02, 7.03841744e-01, 1.03615412e+00, 1.19715018e+00,\n",
       "        1.13935672e+00, 1.20540639e+00, 5.07343990e+00, 8.99926687e+00,\n",
       "        9.08595706e+00, 8.97037014e+00, 8.93940936e+00, 8.94972962e+00,\n",
       "        8.92496100e+00, 9.22631260e+00, 9.04054791e+00, 9.05293222e+00,\n",
       "        9.10040542e+00, 8.81350219e+00, 9.13755836e+00, 2.80917482e+00,\n",
       "        1.21366260e+00, 1.24462338e+00, 1.16206130e+00, 1.05473059e+00,\n",
       "        4.52027396e-01, 5.16013009e-02, 4.54091448e-02, 4.12810407e-03,\n",
       "        4.12810407e-03, 1.23843122e-02, 6.19215610e-03, 0.00000000e+00,\n",
       "        4.12810407e-03, 6.19215610e-03, 4.12810407e-03, 8.25620814e-03,\n",
       "        6.19215610e-03, 6.19215610e-03]),\n",
       " array([-0.19591485, -0.18803322, -0.18015159, -0.17226995, -0.16438832,\n",
       "        -0.15650669, -0.14862506, -0.14074343, -0.13286179, -0.12498016,\n",
       "        -0.11709853, -0.1092169 , -0.10133527, -0.09345364, -0.085572  ,\n",
       "        -0.07769037, -0.06980874, -0.06192711, -0.05404548, -0.04616384,\n",
       "        -0.03828221, -0.03040058, -0.02251895, -0.01463732, -0.00675569,\n",
       "         0.00112595,  0.00900758,  0.01688921,  0.02477084,  0.03265247,\n",
       "         0.04053411,  0.04841574,  0.05629737,  0.064179  ,  0.07206063,\n",
       "         0.07994227,  0.0878239 ,  0.09570553,  0.10358716,  0.11146879,\n",
       "         0.11935042,  0.12723206,  0.13511369,  0.14299532,  0.15087695,\n",
       "         0.15875858,  0.16664022,  0.17452185,  0.18240348,  0.19028511,\n",
       "         0.19816674]),\n",
       " <BarContainer object of 50 artists>)"
      ]
     },
     "execution_count": 31,
     "metadata": {},
     "output_type": "execute_result"
    },
    {
     "data": {
      "image/png": "[encoded data removed]",
      "text/plain": [
       "<Figure size 432x288 with 1 Axes>"
      ]
     },
     "metadata": {
      "needs_background": "light"
     },
     "output_type": "display_data"
    }
   ],
   "source": [
    "kde = stats.gaussian_kde(init_weights_array)\n",
    "#visualize KDE\n",
    "fig = plt.figure()\n",
    "ax = fig.add_subplot(111)\n",
    "x_eval = np.linspace(-.2, .2, num=200)\n",
    "ax.plot(x_eval, kde(x_eval), 'k-')\n",
    "ax.hist(init_weights_array,bins=50,density=True, stacked=True)"
   ]
  },
  {
   "cell_type": "markdown",
   "id": "committed-owner",
   "metadata": {},
   "source": [
    "----"
   ]
  },
  {
   "cell_type": "code",
   "execution_count": 29,
   "id": "valued-tradition",
   "metadata": {},
   "outputs": [
    {
     "data": {
      "text/plain": [
       "<AxesSubplot:ylabel='Density'>"
      ]
     },
     "execution_count": 29,
     "metadata": {},
     "output_type": "execute_result"
    },
    {
     "data": {
      "image/png": "[encoded data removed]",
      "text/plain": [
       "<Figure size 432x288 with 1 Axes>"
      ]
     },
     "metadata": {
      "needs_background": "light"
     },
     "output_type": "display_data"
    }
   ],
   "source": [
    "init_weights_bins = pd.cut(init_weights_array, 30)\n",
    "#pd.value_counts(init_weights_bins)\n",
    "#plt.figure(figsize=(10,10))\n",
    "#plt.xlabel(init_weights_bins)\n",
    "#pd.value_counts(init_weights_bins).sort_index().plot.bar()\n",
    "#x = np.linspace(np.min(init_weights_array), np.max(init_weights_array), 100)\n",
    "#plt.plot(x, stats.norm.pdf(x, np.mean(init_weights_array),np.std(init_weights_array)))\n",
    "#pd.value_counts(init_weights_bins,normalize=True).sort_index().plot.density()\n",
    "#pd.value_counts(init_weights_bins,normalize=True).sort_index().plot.bar()\n",
    "pd.value_counts(init_weights_bins,normalize=True).sort_index().plot.density()\n",
    "#sns.distplot(pd.value_counts(init_weights_bins),kde_kws={\"bw\": 0.5})\n",
    "#sns.displot(pd.value_counts(init_weights_bins), kde=True)"
   ]
  },
  {
   "cell_type": "code",
   "execution_count": 95,
   "id": "intelligent-harbor",
   "metadata": {},
   "outputs": [
    {
     "data": {
      "text/plain": [
       "<AxesSubplot:ylabel='Density'>"
      ]
     },
     "execution_count": 95,
     "metadata": {},
     "output_type": "execute_result"
    },
    {
     "data": {
      "image/png": "[encoded data removed]",
      "text/plain": [
       "<Figure size 720x720 with 1 Axes>"
      ]
     },
     "metadata": {
      "needs_background": "light"
     },
     "output_type": "display_data"
    }
   ],
   "source": [
    "final_weights_bins = pd.cut(final_weights_array, 10)\n",
    "plt.figure(figsize=(10,10))\n",
    "#pd.value_counts(final_weights_bins).sort_index().plot.bar()\n",
    "pd.value_counts(final_weights_bins,normalize=True).sort_index().plot.density()\n",
    "#sns.distplot(pd.value_counts(final_weights_bins))"
   ]
  },
  {
   "cell_type": "code",
   "execution_count": 37,
   "id": "ongoing-legislature",
   "metadata": {},
   "outputs": [
    {
     "data": {
      "text/plain": [
       "(-0.0397, 0.0401]    426821\n",
       "(-0.12, -0.0397]       1810\n",
       "(0.0401, 0.12]         1652\n",
       "(0.12, 0.2]             109\n",
       "(-0.2, -0.12]           108\n",
       "dtype: int64"
      ]
     },
     "execution_count": 37,
     "metadata": {},
     "output_type": "execute_result"
    }
   ],
   "source": [
    "init_weights_bins = pd.cut(init_weights_array, 5)\n",
    "pd.value_counts(init_weights_bins)"
   ]
  },
  {
   "cell_type": "code",
   "execution_count": 33,
   "id": "democratic-measurement",
   "metadata": {},
   "outputs": [
    {
     "data": {
      "text/plain": [
       "(-0.0846, 0.0268]    233165\n",
       "(0.0268, 0.138]      107056\n",
       "(-0.196, -0.0846]     63392\n",
       "(0.138, 0.25]         16070\n",
       "(-0.307, -0.196]       8916\n",
       "(0.25, 0.361]           933\n",
       "(-0.419, -0.307]        880\n",
       "(-0.53, -0.419]          53\n",
       "(0.361, 0.472]           30\n",
       "(-0.643, -0.53]           5\n",
       "dtype: int64"
      ]
     },
     "execution_count": 33,
     "metadata": {},
     "output_type": "execute_result"
    }
   ],
   "source": [
    "final_weights_bins = pd.cut(final_weights_array, 10)\n",
    "pd.value_counts(final_weights_bins)"
   ]
  },
  {
   "cell_type": "code",
   "execution_count": 40,
   "id": "finished-packet",
   "metadata": {},
   "outputs": [
    {
     "data": {
      "text/plain": [
       "(array([   11,    15,     5,    12,     8,     9,    11,    10,    14,\n",
       "           13,    10,     8,     8,    11,     7,     9,    13,    10,\n",
       "            9,  1725, 22897, 47898, 48051, 48151, 47680, 47673, 47886,\n",
       "        47595, 47916, 21074,  1577,    10,     9,     5,     9,     6,\n",
       "           11,     7,     6,    12,     8,    13,     8,     8,     8,\n",
       "           13,    16,    11,    10,    14]),\n",
       " array([-1.99337482e-01, -1.91356806e-01, -1.83376129e-01, -1.75395453e-01,\n",
       "        -1.67414776e-01, -1.59434099e-01, -1.51453423e-01, -1.43472746e-01,\n",
       "        -1.35492070e-01, -1.27511393e-01, -1.19530717e-01, -1.11550040e-01,\n",
       "        -1.03569363e-01, -9.55886868e-02, -8.76080102e-02, -7.96273336e-02,\n",
       "        -7.16466570e-02, -6.36659804e-02, -5.56853038e-02, -4.77046272e-02,\n",
       "        -3.97239506e-02, -3.17432740e-02, -2.37625974e-02, -1.57819209e-02,\n",
       "        -7.80124426e-03,  1.79432333e-04,  8.16010892e-03,  1.61407855e-02,\n",
       "         2.41214621e-02,  3.21021387e-02,  4.00828153e-02,  4.80634919e-02,\n",
       "         5.60441685e-02,  6.40248451e-02,  7.20055217e-02,  7.99861982e-02,\n",
       "         8.79668748e-02,  9.59475514e-02,  1.03928228e-01,  1.11908905e-01,\n",
       "         1.19889581e-01,  1.27870258e-01,  1.35850934e-01,  1.43831611e-01,\n",
       "         1.51812288e-01,  1.59792964e-01,  1.67773641e-01,  1.75754317e-01,\n",
       "         1.83734994e-01,  1.91715671e-01,  1.99696347e-01]))"
      ]
     },
     "execution_count": 40,
     "metadata": {},
     "output_type": "execute_result"
    }
   ],
   "source": [
    "np.histogram(init_weights_array,bins=50)"
   ]
  },
  {
   "cell_type": "code",
   "execution_count": null,
   "id": "attached-landscape",
   "metadata": {},
   "outputs": [],
   "source": []
  }
 ],
 "metadata": {
  "kernelspec": {
   "display_name": "Python 3",
   "language": "python",
   "name": "python3"
  },
  "language_info": {
   "codemirror_mode": {
    "name": "ipython",
    "version": 3
   },
   "file_extension": ".py",
   "mimetype": "text/x-python",
   "name": "python",
   "nbconvert_exporter": "python",
   "pygments_lexer": "ipython3",
   "version": "3.7.10"
  }
 },
 "nbformat": 4,
 "nbformat_minor": 5
}
