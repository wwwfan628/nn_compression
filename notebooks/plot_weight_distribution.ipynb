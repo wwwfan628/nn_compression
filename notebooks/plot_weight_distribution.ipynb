{
 "cells": [
  {
   "cell_type": "code",
   "execution_count": 1,
   "id": "suffering-decision",
   "metadata": {},
   "outputs": [],
   "source": [
    "import torch\n",
    "import pandas as pd\n",
    "import numpy as np\n",
    "import matplotlib.pyplot as plt\n",
    "import seaborn as sns\n",
    "import scipy.stats as stats\n",
    "import math"
   ]
  },
  {
   "cell_type": "code",
   "execution_count": 2,
   "id": "mysterious-scottish",
   "metadata": {},
   "outputs": [],
   "source": [
    "model_name = 'VGG'\n",
    "dataset_name = 'CIFAR10'\n",
    "init_param_path = '/Users/yifanlu/Desktop/init_param_' + model_name + '_' + dataset_name + '.pth'\n",
    "final_param_path = '/Users/yifanlu/Desktop/final_param_' + model_name + '_' + dataset_name + '.pth'\n",
    "#init_param_path = '/Users/yifanlu/Desktop/init_param_LeNet5_MNIST_train_index.pth'\n",
    "#final_param_path = '/Users/yifanlu/Desktop/final_param_LeNet5_MNIST_train_index.pth'\n",
    "init_param_dict = torch.load(init_param_path, map_location=torch.device('cpu'))\n",
    "final_param_dict = torch.load(final_param_path, map_location=torch.device('cpu'))"
   ]
  },
  {
   "cell_type": "code",
   "execution_count": 3,
   "id": "herbal-causing",
   "metadata": {},
   "outputs": [
    {
     "name": "stdout",
     "output_type": "stream",
     "text": [
      "features.0.weight\n",
      "features.0.bias\n",
      "features.1.weight\n",
      "features.1.bias\n",
      "features.1.running_mean\n",
      "features.1.running_var\n",
      "features.1.num_batches_tracked\n",
      "features.3.weight\n",
      "features.3.bias\n",
      "features.4.weight\n",
      "features.4.bias\n",
      "features.4.running_mean\n",
      "features.4.running_var\n",
      "features.4.num_batches_tracked\n",
      "features.7.weight\n",
      "features.7.bias\n",
      "features.8.weight\n",
      "features.8.bias\n",
      "features.8.running_mean\n",
      "features.8.running_var\n",
      "features.8.num_batches_tracked\n",
      "features.10.weight\n",
      "features.10.bias\n",
      "features.11.weight\n",
      "features.11.bias\n",
      "features.11.running_mean\n",
      "features.11.running_var\n",
      "features.11.num_batches_tracked\n",
      "features.14.weight\n",
      "features.14.bias\n",
      "features.15.weight\n",
      "features.15.bias\n",
      "features.15.running_mean\n",
      "features.15.running_var\n",
      "features.15.num_batches_tracked\n",
      "features.17.weight\n",
      "features.17.bias\n",
      "features.18.weight\n",
      "features.18.bias\n",
      "features.18.running_mean\n",
      "features.18.running_var\n",
      "features.18.num_batches_tracked\n",
      "classifier.0.weight\n",
      "classifier.0.bias\n",
      "classifier.1.weight\n",
      "classifier.1.bias\n",
      "classifier.1.running_mean\n",
      "classifier.1.running_var\n",
      "classifier.1.num_batches_tracked\n",
      "classifier.3.weight\n",
      "classifier.3.bias\n",
      "classifier.4.weight\n",
      "classifier.4.bias\n",
      "classifier.4.running_mean\n",
      "classifier.4.running_var\n",
      "classifier.4.num_batches_tracked\n",
      "classifier.6.weight\n",
      "classifier.6.bias\n"
     ]
    }
   ],
   "source": [
    "for (key,layer_weights_tensor) in init_param_dict.items():\n",
    "    print(key)"
   ]
  },
  {
   "cell_type": "code",
   "execution_count": 4,
   "id": "accepting-monster",
   "metadata": {},
   "outputs": [
    {
     "name": "stdout",
     "output_type": "stream",
     "text": [
      "features.0.weight\n",
      "features.1.weight\n",
      "features.3.weight\n",
      "features.4.weight\n",
      "features.7.weight\n",
      "features.8.weight\n",
      "features.10.weight\n",
      "features.11.weight\n",
      "features.14.weight\n",
      "features.15.weight\n",
      "features.17.weight\n",
      "features.18.weight\n",
      "classifier.0.weight\n",
      "classifier.1.weight\n",
      "classifier.3.weight\n",
      "classifier.4.weight\n",
      "classifier.6.weight\n",
      "features.0.weight\n",
      "features.1.weight\n",
      "features.3.weight\n",
      "features.4.weight\n",
      "features.7.weight\n",
      "features.8.weight\n",
      "features.10.weight\n",
      "features.11.weight\n",
      "features.14.weight\n",
      "features.15.weight\n",
      "features.17.weight\n",
      "features.18.weight\n",
      "classifier.0.weight\n",
      "classifier.1.weight\n",
      "classifier.3.weight\n",
      "classifier.4.weight\n",
      "classifier.6.weight\n"
     ]
    }
   ],
   "source": [
    "init_weights_array = np.zeros(0)\n",
    "for (key,layer_weights_tensor) in init_param_dict.items():\n",
    "    if 'weight' in key:\n",
    "        print(key)\n",
    "        init_weights_array = np.append(init_weights_array, layer_weights_tensor)\n",
    "\n",
    "final_weights_array = np.zeros(0)\n",
    "for (key,layer_weights_tensor) in final_param_dict.items():\n",
    "    if 'weight' in key:\n",
    "        print(key)\n",
    "        final_weights_array = np.append(final_weights_array, layer_weights_tensor)"
   ]
  },
  {
   "cell_type": "code",
   "execution_count": 5,
   "id": "second-experience",
   "metadata": {},
   "outputs": [
    {
     "data": {
      "text/plain": [
       "(14025856,)"
      ]
     },
     "execution_count": 5,
     "metadata": {},
     "output_type": "execute_result"
    }
   ],
   "source": [
    "init_weights_array.shape"
   ]
  },
  {
   "cell_type": "code",
   "execution_count": 6,
   "id": "mental-compound",
   "metadata": {},
   "outputs": [
    {
     "data": {
      "text/plain": [
       "(14025856,)"
      ]
     },
     "execution_count": 6,
     "metadata": {},
     "output_type": "execute_result"
    }
   ],
   "source": [
    "final_weights_array.shape"
   ]
  },
  {
   "cell_type": "code",
   "execution_count": 12,
   "id": "controlled-vacuum",
   "metadata": {},
   "outputs": [
    {
     "data": {
      "image/png": "[encoded data removed]",
      "text/plain": [
       "<Figure size 504x360 with 1 Axes>"
      ]
     },
     "metadata": {},
     "output_type": "display_data"
    }
   ],
   "source": [
    "fig, ax = plt.subplots(figsize=(7,5),nrows=1, ncols=1)\n",
    "fig.patch.set_facecolor('w')\n",
    "ax.grid(linestyle='dotted')\n",
    "ax.set_facecolor('whitesmoke')\n",
    "ax.set_ylabel('Density')\n",
    "bin_edges = np.histogram(init_weights_array,bins=5000)[1]\n",
    "plt.hist(init_weights_array,bins=5000, edgecolor='steelblue',density=True, stacked=True)\n",
    "loc, std = stats.norm.fit(init_weights_array)\n",
    "plt.plot(bin_edges,stats.norm.pdf(bin_edges, loc=loc, scale=std))\n",
    "ax.legend(['pdf','normalized frequency'])\n",
    "ax.title.set_text('Initial Parameters\\' Distribution')\n",
    "plt.show()\n",
    "fig_name = 'init_weights_distribution_' + model_name + '_' + dataset_name + '_train_index.png'\n",
    "fig.savefig(fig_name)"
   ]
  },
  {
   "cell_type": "code",
   "execution_count": 13,
   "id": "vital-cornell",
   "metadata": {},
   "outputs": [
    {
     "data": {
      "image/png": "[encoded data removed]",
      "text/plain": [
       "<Figure size 504x360 with 1 Axes>"
      ]
     },
     "metadata": {},
     "output_type": "display_data"
    }
   ],
   "source": [
    "fig, ax = plt.subplots(figsize=(7,5),nrows=1, ncols=1)\n",
    "fig.patch.set_facecolor('w')\n",
    "ax.grid(linestyle='dotted')\n",
    "ax.set_facecolor('whitesmoke')\n",
    "ax.set_ylabel('Density')\n",
    "bin_edges = np.histogram(final_weights_array,bins=5000)[1]\n",
    "plt.hist(final_weights_array,bins=5000, edgecolor='steelblue',density=True, stacked=True)\n",
    "loc, std = stats.norm.fit(final_weights_array)\n",
    "plt.plot(bin_edges,stats.norm.pdf(bin_edges, loc=loc, scale=std))\n",
    "ax.legend(['pdf','normalized frequency'])\n",
    "ax.title.set_text('Final Parameters\\' Distribution')\n",
    "plt.show()\n",
    "fig_name = 'final_weights_distribution_' + model_name + '_' + dataset_name + '_train_index.png'\n",
    "fig.savefig(fig_name)"
   ]
  },
  {
   "cell_type": "markdown",
   "id": "56306e82",
   "metadata": {},
   "source": [
    "------"
   ]
  },
  {
   "cell_type": "code",
   "execution_count": null,
   "id": "78f11a13",
   "metadata": {},
   "outputs": [],
   "source": [
    "prune_param_path = '/Users/yifanlu/Desktop/prune_param_LeNet5_MNIST_from_start.pth'\n",
    "prune_param_dict = torch.load(prune_param_path, map_location=torch.device('cpu'))"
   ]
  },
  {
   "cell_type": "code",
   "execution_count": null,
   "id": "83dde959",
   "metadata": {},
   "outputs": [],
   "source": [
    "prune_weights_array = np.zeros(0)\n",
    "prune_weights_orig = []\n",
    "prune_weights_mask = []\n",
    "for (key,value) in prune_param_dict.items():\n",
    "    if 'weight_orig' in key:\n",
    "        print(key)\n",
    "        prune_weights_orig.append(value)\n",
    "    elif 'weight_mask' in key:\n",
    "        print(key)\n",
    "        prune_weights_mask.append(value)\n",
    "for idx in range(len(prune_weights_orig)):\n",
    "    weights = prune_weights_orig[idx] * prune_weights_mask[idx]\n",
    "    prune_weights_array = np.append(prune_weights_array, weights)"
   ]
  },
  {
   "cell_type": "code",
   "execution_count": null,
   "id": "2e835d59",
   "metadata": {},
   "outputs": [],
   "source": [
    "prune_weights_array = prune_weights_array[prune_weights_array!=0]"
   ]
  },
  {
   "cell_type": "code",
   "execution_count": null,
   "id": "94241464",
   "metadata": {},
   "outputs": [],
   "source": [
    "fig, ax = plt.subplots(figsize=(7,5),nrows=1, ncols=1)\n",
    "fig.patch.set_facecolor('w')\n",
    "ax.grid(linestyle='dotted')\n",
    "ax.set_facecolor('whitesmoke')\n",
    "ax.set_ylabel('Density')\n",
    "bin_edges = np.histogram(prune_weights_array,bins=500)[1]\n",
    "plt.hist(prune_weights_array,bins=50, edgecolor='steelblue',density=True, stacked=True)\n",
    "loc, std = stats.norm.fit(prune_weights_array)\n",
    "plt.plot(bin_edges,stats.norm.pdf(bin_edges, loc=loc, scale=std))\n",
    "ax.legend(['pdf','normalized frequency'])\n",
    "ax.title.set_text('Parameters after Pruning')\n",
    "plt.show()\n",
    "fig_name = 'prune_weights_distribution_' + model_name + '_' + dataset_name + '_train_index.png'\n",
    "fig.savefig(fig_name)"
   ]
  }
 ],
 "metadata": {
  "kernelspec": {
   "display_name": "Python 3",
   "language": "python",
   "name": "python3"
  },
  "language_info": {
   "codemirror_mode": {
    "name": "ipython",
    "version": 3
   },
   "file_extension": ".py",
   "mimetype": "text/x-python",
   "name": "python",
   "nbconvert_exporter": "python",
   "pygments_lexer": "ipython3",
   "version": "3.8.5"
  }
 },
 "nbformat": 4,
 "nbformat_minor": 5
}
